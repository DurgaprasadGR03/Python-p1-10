{
 "cells": [
  {
   "cell_type": "code",
   "execution_count": 1,
   "id": "ebd9d4a6",
   "metadata": {},
   "outputs": [
    {
     "name": "stdout",
     "output_type": "stream",
     "text": [
      "Enter marks for test1: 23\n",
      "Enter marks for test2: 24\n",
      "Enter marks for test3: 25\n",
      "Average of best two test marks out of three test’s marks is 24.5\n"
     ]
    }
   ],
   "source": [
    "#p1a\n",
    "m1 = int(input(\"Enter marks for test1: \"))\n",
    "m2 = int(input(\"Enter marks for test2: \"))\n",
    "m3 = int(input(\"Enter marks for test3: \"))\n",
    "\n",
    "if m1 <= m2 and m1 <= m3:\n",
    "    avgMarks = (m2 + m3) / 2\n",
    "elif m2 <= m1 and m2 <= m3:\n",
    "    avgMarks = (m1 + m3) / 2\n",
    "elif m3 <= m1 and m3 <= m2:\n",
    "    avgMarks = (m1 + m2) / 2\n",
    "\n",
    "print(\"Average of best two test marks out of three test’s marks is\", avgMarks)"
   ]
  },
  {
   "cell_type": "code",
   "execution_count": 2,
   "id": "4a2ba7f8",
   "metadata": {},
   "outputs": [
    {
     "name": "stdout",
     "output_type": "stream",
     "text": [
      "Enter a value: 232\n",
      "Palindrome\n",
      "2 appears 2 times\n",
      "3 appears 1 times\n"
     ]
    }
   ],
   "source": [
    "#p1b\n",
    "val = int(input(\"Enter a value: \"))\n",
    "str_val = str(val)\n",
    "\n",
    "if str_val == str_val[::-1]:\n",
    "    print(\"Palindrome\")\n",
    "else:\n",
    "    print(\"Not Palindrome\")\n",
    "\n",
    "for i in range(10):\n",
    "    if str_val.count(str(i)) > 0:\n",
    "        print(str(i), \"appears\", str_val.count(str(i)), \"times\")"
   ]
  },
  {
   "cell_type": "code",
   "execution_count": 3,
   "id": "eb8a8ea5",
   "metadata": {},
   "outputs": [
    {
     "name": "stdout",
     "output_type": "stream",
     "text": [
      "Enter a number: 2\n",
      "fn(2) =1\n"
     ]
    }
   ],
   "source": [
    "#p2a\n",
    "def fn(n):\n",
    "    if n == 1:\n",
    "        return 0\n",
    "    elif n == 2:\n",
    "        return 1\n",
    "    else:\n",
    "        return fn(n - 1) + fn(n - 2)\n",
    "\n",
    "num = int(input(\"Enter a number: \"))\n",
    "if num > 0:\n",
    "    print(\"fn(\", num, \") =\", fn(num), sep=\"\")\n",
    "else:\n",
    "    print(\"Error in input\")"
   ]
  },
  {
   "cell_type": "code",
   "execution_count": 4,
   "id": "b13510f3",
   "metadata": {},
   "outputs": [
    {
     "name": "stdout",
     "output_type": "stream",
     "text": [
      "Enter a binary number: 100\n",
      "4\n",
      "Enter an octal number: 43\n",
      "23\n"
     ]
    }
   ],
   "source": [
    "#p2b\n",
    "def bin2Dec(val):\n",
    "    rev = val[::-1]\n",
    "    dec = 0\n",
    "    i = 0\n",
    "    for dig in rev:\n",
    "        dec += int(dig) * 2**i\n",
    "        i += 1\n",
    "    return dec\n",
    "\n",
    "def oct2Hex(val):\n",
    "    rev = val[::-1]\n",
    "    dec = 0\n",
    "    i = 0\n",
    "    for dig in rev:\n",
    "        dec += int(dig) * 8**i\n",
    "        i += 1\n",
    "\n",
    "    hex_list = []\n",
    "    while dec != 0:\n",
    "        hex_list.append(dec % 16)\n",
    "        dec = dec // 16\n",
    "\n",
    "    hex_string = \"\"\n",
    "    for elem in hex_list[::-1]:\n",
    "        if elem <= 9:\n",
    "            hex_string += str(elem)\n",
    "        else:\n",
    "            hex_string += chr(ord('A') + (elem - 10))\n",
    "\n",
    "    return hex_string\n",
    "\n",
    "num1 = input(\"Enter a binary number: \")\n",
    "print(bin2Dec(num1))\n",
    "\n",
    "num2 = input(\"Enter an octal number: \")\n",
    "print(oct2Hex(num2))"
   ]
  },
  {
   "cell_type": "code",
   "execution_count": 5,
   "id": "cfe63a23",
   "metadata": {},
   "outputs": [
    {
     "name": "stdout",
     "output_type": "stream",
     "text": [
      "Enter a sentence: who are you\n",
      "This sentence has 3 words\n",
      "This sentence has 0 digits, 0 uppercase letters, 9 lowercase letters.\n"
     ]
    }
   ],
   "source": [
    "#p3a\n",
    "sentence = input(\"Enter a sentence: \")\n",
    "wordList = sentence.split(\" \")\n",
    "print(\"This sentence has\", len(wordList), \"words\")\n",
    "\n",
    "digCnt = upCnt = loCnt = 0\n",
    "for ch in sentence:\n",
    "    if '0' <= ch <= '9':\n",
    "        digCnt += 1\n",
    "    elif 'A' <= ch <= 'Z':\n",
    "        upCnt += 1\n",
    "    elif 'a' <= ch <= 'z':\n",
    "        loCnt += 1\n",
    "\n",
    "print(\"This sentence has\", digCnt, \"digits,\", upCnt, \"uppercase letters,\", loCnt, \"lowercase letters.\")"
   ]
  },
  {
   "cell_type": "code",
   "execution_count": 6,
   "id": "187c0d9a",
   "metadata": {},
   "outputs": [
    {
     "name": "stdout",
     "output_type": "stream",
     "text": [
      "Enter String 1:\n",
      "yes\n",
      "Enter String 2:\n",
      "no\n",
      "Similarity between the two strings:\n",
      "0.0\n"
     ]
    }
   ],
   "source": [
    "#p3b\n",
    "str1 = input(\"Enter String 1:\\n\")\n",
    "str2 = input(\"Enter String 2:\\n\")\n",
    "\n",
    "if len(str2) < len(str1):\n",
    "    short = len(str2)\n",
    "    long = len(str1)\n",
    "else:\n",
    "    short = len(str1)\n",
    "    long = len(str2)\n",
    "\n",
    "matchCnt = 0\n",
    "for i in range(short):\n",
    "    if str1[i] == str2[i]:\n",
    "        matchCnt += 1\n",
    "\n",
    "print(\"Similarity between the two strings:\")\n",
    "print(matchCnt / long)"
   ]
  },
  {
   "cell_type": "code",
   "execution_count": null,
   "id": "fdc46cf8",
   "metadata": {},
   "outputs": [],
   "source": []
  }
 ],
 "metadata": {
  "kernelspec": {
   "display_name": "Python 3 (ipykernel)",
   "language": "python",
   "name": "python3"
  },
  "language_info": {
   "codemirror_mode": {
    "name": "ipython",
    "version": 3
   },
   "file_extension": ".py",
   "mimetype": "text/x-python",
   "name": "python",
   "nbconvert_exporter": "python",
   "pygments_lexer": "ipython3",
   "version": "3.11.4"
  }
 },
 "nbformat": 4,
 "nbformat_minor": 5
}
